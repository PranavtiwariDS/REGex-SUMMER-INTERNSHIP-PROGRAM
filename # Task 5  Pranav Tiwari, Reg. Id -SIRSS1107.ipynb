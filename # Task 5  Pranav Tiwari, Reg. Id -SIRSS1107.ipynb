{
 "cells": [
  {
   "cell_type": "code",
   "execution_count": 2,
   "metadata": {},
   "outputs": [],
   "source": [
    "# Q1. Given a list of integers, write a function to return the sum of all prime numbers in that list."
   ]
  },
  {
   "cell_type": "code",
   "execution_count": 2,
   "metadata": {},
   "outputs": [
    {
     "name": "stdout",
     "output_type": "stream",
     "text": [
      "2 5 7 8 3\n",
      "17\n"
     ]
    }
   ],
   "source": [
    "def Prime(n):\n",
    "    if n < 0:\n",
    "        raise ValueError('Negative value')\n",
    "    if n < 2:\n",
    "        return False\n",
    "    if n == 2:\n",
    "        return True\n",
    "    if n % 2 == 0:\n",
    "        return False\n",
    "    i = 3\n",
    "    while(i * i < n):\n",
    "        if n % i == 0:\n",
    "            return False\n",
    "        i += 2\n",
    "    return True\n",
    "sum = 0\n",
    "for n in [int(i) for i in input().split()]:\n",
    "    if Prime(n) == True:\n",
    "        sum += n\n",
    "print(sum)"
   ]
  },
  {
   "cell_type": "code",
   "execution_count": 4,
   "metadata": {},
   "outputs": [],
   "source": [
    "#Q2. Given a list of integers, write a function to check whether the list is strictly increasing or not."
   ]
  },
  {
   "cell_type": "code",
   "execution_count": 5,
   "metadata": {},
   "outputs": [
    {
     "name": "stdout",
     "output_type": "stream",
     "text": [
      "True\n"
     ]
    }
   ],
   "source": [
    "list =[10,25,50,100]\n",
    "\n",
    "def strictly_increasing(list):\n",
    "    increasing = True\n",
    "    for i in range(0, len(list) - 1):\n",
    "        if list[i] > list[i+1]:\n",
    "            if increasing:\n",
    "                increasing = False\n",
    "            else:\n",
    "                return False\n",
    "    return True\n",
    "print(strictly_increasing(list))"
   ]
  },
  {
   "cell_type": "code",
   "execution_count": 6,
   "metadata": {},
   "outputs": [],
   "source": [
    "# Q3. Write a function to check whether a given list is expanding or not (the difference between adjacent elements should keep on increasing)."
   ]
  },
  {
   "cell_type": "code",
   "execution_count": 3,
   "metadata": {},
   "outputs": [
    {
     "name": "stdout",
     "output_type": "stream",
     "text": [
      "True\n"
     ]
    }
   ],
   "source": [
    "list = [5, 4, 9, 20, 32, 45]\n",
    "def expanding(list):\n",
    "    diff = abs(list[1] - list[0])\n",
    "    for i in range(1, len(list)-1):\n",
    "        temp = abs(list[i+1] - list[i])    \n",
    "        if temp < diff:\n",
    "            return False\n",
    "        else:\n",
    "            diff = temp    \n",
    "    return True\n",
    "print(expanding(list))"
   ]
  },
  {
   "cell_type": "code",
   "execution_count": 9,
   "metadata": {},
   "outputs": [],
   "source": [
    "# Q4. Write a function to calculate all permutations of a given string. (Without using itertools)"
   ]
  },
  {
   "cell_type": "code",
   "execution_count": 1,
   "metadata": {},
   "outputs": [
    {
     "name": "stdout",
     "output_type": "stream",
     "text": [
      "[3, 2, 1]\n",
      "[2, 3, 1]\n",
      "[2, 1, 3]\n",
      "[3, 1, 2]\n",
      "[1, 3, 2]\n",
      "[1, 2, 3]\n"
     ]
    }
   ],
   "source": [
    "l1 = [1,2,3]\n",
    "def permute(l1,l2 = [], k=0, x =0):\n",
    "    l2.insert(x, l1[k])\n",
    "    if len(l2) == len(l1):\n",
    "        print(l2)\n",
    "    else:\n",
    "        permute(l1, l2, k+1, 0)\n",
    "    l2.remove(l1[k])\n",
    "    if x < k:\n",
    "        permute (l1, l2, k, x +1 )\n",
    "permute(l1)"
   ]
  },
  {
   "cell_type": "code",
   "execution_count": null,
   "metadata": {},
   "outputs": [],
   "source": []
  }
 ],
 "metadata": {
  "kernelspec": {
   "display_name": "Python 3",
   "language": "python",
   "name": "python3"
  },
  "language_info": {
   "codemirror_mode": {
    "name": "ipython",
    "version": 3
   },
   "file_extension": ".py",
   "mimetype": "text/x-python",
   "name": "python",
   "nbconvert_exporter": "python",
   "pygments_lexer": "ipython3",
   "version": "3.8.5"
  }
 },
 "nbformat": 4,
 "nbformat_minor": 4
}
