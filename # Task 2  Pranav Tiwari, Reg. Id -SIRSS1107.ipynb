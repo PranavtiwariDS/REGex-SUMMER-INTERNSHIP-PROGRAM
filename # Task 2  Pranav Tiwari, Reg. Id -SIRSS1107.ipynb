{
 "cells": [
  {
   "cell_type": "code",
   "execution_count": null,
   "metadata": {},
   "outputs": [],
   "source": []
  },
  {
   "cell_type": "code",
   "execution_count": 1,
   "metadata": {},
   "outputs": [],
   "source": [
    "#Q1. Write a lambda expression to extract first word of a string."
   ]
  },
  {
   "cell_type": "code",
   "execution_count": 2,
   "metadata": {},
   "outputs": [
    {
     "data": {
      "text/plain": [
       "['Summer']"
      ]
     },
     "execution_count": 2,
     "metadata": {},
     "output_type": "execute_result"
    }
   ],
   "source": [
    "str = ['Summer training - ML and DL']\n",
    "list(map(lambda x : x.split()[0], str))"
   ]
  },
  {
   "cell_type": "code",
   "execution_count": 3,
   "metadata": {},
   "outputs": [],
   "source": [
    "# Q2. Write a function to extract first word of s string (with many words separated by space)."
   ]
  },
  {
   "cell_type": "code",
   "execution_count": 4,
   "metadata": {},
   "outputs": [
    {
     "data": {
      "text/plain": [
       "'Regex'"
      ]
     },
     "execution_count": 4,
     "metadata": {},
     "output_type": "execute_result"
    }
   ],
   "source": [
    "def first_word(x):\n",
    "    return x.split()[0]\n",
    "first_word('Regex summer training')"
   ]
  },
  {
   "cell_type": "code",
   "execution_count": 5,
   "metadata": {},
   "outputs": [],
   "source": [
    "# Q3. Extract the first word from every string from a list of strings by using map function."
   ]
  },
  {
   "cell_type": "code",
   "execution_count": 2,
   "metadata": {},
   "outputs": [
    {
     "data": {
      "text/plain": [
       "['I', 'I', 'M']"
      ]
     },
     "execution_count": 2,
     "metadata": {},
     "output_type": "execute_result"
    }
   ],
   "source": [
    "def cut(s):\n",
    "    return s[0]\n",
    "str = ['I am an interen','I join summer intership','My trainer is Regex sofwear']\n",
    "list(map(cut, str))"
   ]
  },
  {
   "cell_type": "code",
   "execution_count": 7,
   "metadata": {},
   "outputs": [],
   "source": [
    "# Q4. Write a function to return a list of prime factors of a given number."
   ]
  },
  {
   "cell_type": "code",
   "execution_count": 8,
   "metadata": {},
   "outputs": [
    {
     "name": "stdout",
     "output_type": "stream",
     "text": [
      " Enter number :99\n",
      "3\n",
      "3\n",
      "11.0\n"
     ]
    }
   ],
   "source": [
    "n = int(input (' Enter number :'))\n",
    "def PrimeFactors(n):\n",
    "    while n % 2 == 0:\n",
    "        print (2),\n",
    "        n = n / 2\n",
    "    for i in range(3,int(n**0.5)+ 1,2):\n",
    "        while n % i== 0:\n",
    "            print (i)\n",
    "            n = n / i\n",
    "    if n > 2:\n",
    "        print (n)\n",
    "PrimeFactors(n)"
   ]
  },
  {
   "cell_type": "code",
   "execution_count": 9,
   "metadata": {},
   "outputs": [],
   "source": [
    "# Q5. Write a function that finds 2nd largest among 4 numbers (Repetitions are allowed, without sorting)."
   ]
  },
  {
   "cell_type": "code",
   "execution_count": 13,
   "metadata": {},
   "outputs": [
    {
     "name": "stdout",
     "output_type": "stream",
     "text": [
      "Second largest number is :  98\n"
     ]
    }
   ],
   "source": [
    "list1 = [100,89,98,17]\n",
    " \n",
    "m_x=max(list1[0],list1[1])\n",
    "second_max=min(list1[0],list1[1])\n",
    "n =len(list1)\n",
    "for i in range(2,n):\n",
    "    if list1[i]>m_x:\n",
    "        second_max=m_x\n",
    "        m_x=list1[i]\n",
    "    elif list1[i]>second_max and m_x != list1[i]:\n",
    "        second_max=list1[i]\n",
    "print(\"Second largest number is : \",second_max)\n"
   ]
  },
  {
   "cell_type": "code",
   "execution_count": null,
   "metadata": {},
   "outputs": [],
   "source": []
  }
 ],
 "metadata": {
  "kernelspec": {
   "display_name": "Python 3",
   "language": "python",
   "name": "python3"
  },
  "language_info": {
   "codemirror_mode": {
    "name": "ipython",
    "version": 3
   },
   "file_extension": ".py",
   "mimetype": "text/x-python",
   "name": "python",
   "nbconvert_exporter": "python",
   "pygments_lexer": "ipython3",
   "version": "3.8.5"
  }
 },
 "nbformat": 4,
 "nbformat_minor": 4
}
